{
  "nbformat": 4,
  "nbformat_minor": 0,
  "metadata": {
    "colab": {
      "provenance": []
    },
    "kernelspec": {
      "name": "python3",
      "display_name": "Python 3"
    },
    "language_info": {
      "name": "python"
    }
  },
  "cells": [
    {
      "cell_type": "code",
      "source": [
        "import pandas as pd\n",
        "import numpy as np\n",
        "from sklearn.model_selection import train_test_split\n",
        "from sklearn.preprocessing import StandardScaler\n",
        "from sklearn.linear_model import LogisticRegression\n",
        "from sklearn.ensemble import RandomForestClassifier\n",
        "from sklearn.metrics import accuracy_score, f1_score, confusion_matrix\n",
        "\n",
        "# Simulate reading data from a sensor\n",
        "def read_sensor_data():\n",
        "    # Replace with actual sensor data acquisition code\n",
        "    # Example: Simulated sensor data with the same features as the training data\n",
        "    return {\n",
        "        'Feature1': np.random.uniform(0, 10),\n",
        "        'Feature2': np.random.uniform(0, 10),\n",
        "        'Feature3': np.random.uniform(0, 10),\n",
        "        # Add more features as needed to match the training data's features\n",
        "    }\n",
        "\n",
        "# Load your dataset\n",
        "data = pd.read_csv('pulse_oxygen.csv')\n",
        "\n",
        "# Check dataset to understand structure\n",
        "print(\"Dataset Head:\\n\", data.head())\n",
        "\n",
        "# Define threshold for classification\n",
        "threshold = 90  # Adjust threshold as per domain knowledge\n",
        "\n",
        "# Create binary target variable based on threshold\n",
        "data['Oxygen_Label'] = ['Low' if x < threshold else 'Moderate' for x in data['Oxygen']]\n",
        "\n",
        "# Convert labels to numeric values\n",
        "label_mapping = {'Low': 0, 'Moderate': 1}\n",
        "data['Oxygen_Label'] = data['Oxygen_Label'].map(label_mapping)\n",
        "\n",
        "# Features and target\n",
        "X = data.drop(columns=['Oxygen', 'Oxygen_Label'])\n",
        "y = data['Oxygen_Label']\n",
        "\n",
        "# Convert categorical columns to numeric if necessary\n",
        "non_numeric_columns = X.select_dtypes(include=['object', 'category']).columns\n",
        "for col in non_numeric_columns:\n",
        "    X[col] = X[col].astype('category').cat.codes\n",
        "\n",
        "# Split data into training and test sets\n",
        "X_train, X_test, y_train, y_test = train_test_split(X, y, test_size=0.2, random_state=42)\n",
        "\n",
        "# Standardize features\n",
        "scaler = StandardScaler()\n",
        "X_train = scaler.fit_transform(X_train)\n",
        "X_test = scaler.transform(X_test)\n",
        "\n",
        "# Train Logistic Regression model\n",
        "log_reg = LogisticRegression(random_state=42)\n",
        "log_reg.fit(X_train, y_train)\n",
        "y_pred_log_reg = log_reg.predict(X_test)\n",
        "accuracy_log_reg = accuracy_score(y_test, y_pred_log_reg)\n",
        "f1_log_reg = f1_score(y_test, y_pred_log_reg)\n",
        "conf_matrix_log_reg = confusion_matrix(y_test, y_pred_log_reg)\n",
        "\n",
        "# Train Random Forest model\n",
        "rf = RandomForestClassifier(random_state=42)\n",
        "rf.fit(X_train, y_train)\n",
        "y_pred_rf = rf.predict(X_test)\n",
        "accuracy_rf = accuracy_score(y_test, y_pred_rf)\n",
        "f1_rf = f1_score(y_test, y_pred_rf)\n",
        "conf_matrix_rf = confusion_matrix(y_test, y_pred_rf)\n",
        "\n",
        "# Print model evaluation results\n",
        "print(\"Logistic Regression Results:\")\n",
        "print(f\"Accuracy: {accuracy_log_reg:.4f}\")\n",
        "print(f\"F1 Score: {f1_log_reg:.4f}\")\n",
        "print(\"Confusion Matrix:\")\n",
        "print(conf_matrix_log_reg)\n",
        "\n",
        "print(\"\\nRandom Forest Results:\")\n",
        "print(f\"Accuracy: {accuracy_rf:.4f}\")\n",
        "print(f\"F1 Score: {f1_rf:.4f}\")\n",
        "print(\"Confusion Matrix:\")\n",
        "print(conf_matrix_rf)\n",
        "\n",
        "# Collect data from sensor\n",
        "sensor_data = read_sensor_data()\n",
        "\n",
        "# Create a DataFrame from sensor data\n",
        "sensor_df = pd.DataFrame([sensor_data])\n",
        "\n",
        "# Match the feature order and structure\n",
        "sensor_df = sensor_df.reindex(columns=X.columns, fill_value=0)\n",
        "\n",
        "# Match the feature scaling\n",
        "sensor_df_scaled = scaler.transform(sensor_df)\n",
        "\n",
        "# Predict using Logistic Regression model\n",
        "log_reg_prediction = log_reg.predict(sensor_df_scaled)\n",
        "log_reg_label = 'Low' if log_reg_prediction[0] == 0 else 'Moderate'\n",
        "\n",
        "# Predict using Random Forest model\n",
        "rf_prediction = rf.predict(sensor_df_scaled)\n",
        "rf_label = 'Low' if rf_prediction[0] == 0 else 'Moderate'\n",
        "\n",
        "# Print sensor data prediction results\n",
        "print(\"\\nSensor Data:\", sensor_data)\n",
        "print(\"Prediction using Logistic Regression:\", log_reg_label)\n",
        "print(\"Prediction using Random Forest:\", rf_label)\n"
      ],
      "metadata": {
        "colab": {
          "base_uri": "https://localhost:8080/"
        },
        "id": "8m3p90dP7owA",
        "outputId": "305e1361-0b9e-44b0-dfd4-bf1022d4e595"
      },
      "execution_count": null,
      "outputs": [
        {
          "output_type": "stream",
          "name": "stdout",
          "text": [
            "Dataset Head:\n",
            "    ID  Oxygen  PulseRate  Temperature    Result\n",
            "0   0      98         65           95  Negative\n",
            "1   1      96         92           95  Negative\n",
            "2   2      95         92           99  Negative\n",
            "3   3      97         56           96  Negative\n",
            "4   4      88         94           98  Positive\n",
            "Logistic Regression Results:\n",
            "Accuracy: 0.8045\n",
            "F1 Score: 0.8541\n",
            "Confusion Matrix:\n",
            "[[ 465  155]\n",
            " [ 236 1144]]\n",
            "\n",
            "Random Forest Results:\n",
            "Accuracy: 0.8215\n",
            "F1 Score: 0.8695\n",
            "Confusion Matrix:\n",
            "[[ 454  166]\n",
            " [ 191 1189]]\n",
            "\n",
            "Sensor Data: {'Feature1': 4.435329515830896, 'Feature2': 4.511028371609047, 'Feature3': 1.3877973457242532}\n",
            "Prediction using Logistic Regression: Low\n",
            "Prediction using Random Forest: Moderate\n"
          ]
        }
      ]
    },
    {
      "cell_type": "markdown",
      "source": [
        "Algorithmic Way of Calculating Oxygen Rate"
      ],
      "metadata": {
        "id": "9AAZwwcZ7U3I"
      }
    },
    {
      "cell_type": "code",
      "source": [
        "# Function to classify oxygen levels\n",
        "def classify_oxygen_level(spo2):\n",
        "    if spo2 < 90:\n",
        "        return \"Low\"\n",
        "    elif 90 <= spo2 < 95:\n",
        "        return \"Moderately Low\"\n",
        "    elif 95 <= spo2 <= 100:\n",
        "        return \"Normal\"\n",
        "    else:\n",
        "        return \"Actively High (Above normal range)\"\n",
        "\n",
        "# Main program\n",
        "def main():\n",
        "    try:\n",
        "        # Accepting user input\n",
        "        user_input = input(\"Enter oxygen saturation level (SpO₂) in percentage: \")\n",
        "        oxygen_level = float(user_input)\n",
        "\n",
        "        # Classification\n",
        "        classification = classify_oxygen_level(oxygen_level)\n",
        "        print(f\"Oxygen level: {oxygen_level}% - {classification}\")\n",
        "\n",
        "    except ValueError:\n",
        "        print(\"Invalid input. Please enter a numerical value for the oxygen level.\")\n",
        "\n",
        "# Entry point\n",
        "if __name__ == \"__main__\":\n",
        "    main()\n"
      ],
      "metadata": {
        "colab": {
          "base_uri": "https://localhost:8080/"
        },
        "id": "xxdXKBXF6IIc",
        "outputId": "e06009a2-6a48-4b2f-f1dc-ddbad1d46eda"
      },
      "execution_count": null,
      "outputs": [
        {
          "output_type": "stream",
          "name": "stdout",
          "text": [
            "Enter oxygen saturation level (SpO₂) in percentage: 101\n",
            "Oxygen level: 101.0% - Actively High (Above normal range)\n"
          ]
        }
      ]
    }
  ]
}